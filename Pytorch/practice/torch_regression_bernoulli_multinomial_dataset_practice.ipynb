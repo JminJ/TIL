{
 "cells": [
  {
   "attachments": {},
   "cell_type": "markdown",
   "metadata": {},
   "source": [
    "## Regression dataset example"
   ]
  },
  {
   "cell_type": "code",
   "execution_count": null,
   "metadata": {},
   "outputs": [
    {
     "ename": "",
     "evalue": "",
     "output_type": "error",
     "traceback": [
      "\u001b[1;31m커널을 시작하지 못했습니다. \n",
      "\u001b[1;31mspawn /conda ENOENT. \n",
      "\u001b[1;31m자세한 내용은 Jupyter <a href='command:jupyter.viewOutput'>로그</a>를 참조하세요."
     ]
    }
   ],
   "source": [
    "import torch\n",
    "\n",
    "N, n_feature = 8, 5\n",
    "\n",
    "target_weight = torch.Tensor([1,2,3,4,5]).float()\n",
    "target_bias = torch.Tensor([10]).float()\n",
    "\n",
    "temp_input = torch.randn(size=(N, n_feature))\n",
    "\n",
    "print(target_weight.shape)\n",
    "print(target_bias.shape)\n",
    "\n",
    "# dot-product\n",
    "Y = torch.sum(target_weight * temp_input, dim = 1)\n",
    "print(Y)\n",
    "Y += target_bias\n",
    "print(Y)"
   ]
  },
  {
   "attachments": {},
   "cell_type": "markdown",
   "metadata": {},
   "source": [
    "## Bernoulli dataset example"
   ]
  },
  {
   "cell_type": "code",
   "execution_count": null,
   "metadata": {},
   "outputs": [
    {
     "ename": "",
     "evalue": "",
     "output_type": "error",
     "traceback": [
      "\u001b[1;31m커널을 시작하지 못했습니다. \n",
      "\u001b[1;31mspawn /conda ENOENT. \n",
      "\u001b[1;31m자세한 내용은 Jupyter <a href='command:jupyter.viewOutput'>로그</a>를 참조하세요."
     ]
    }
   ],
   "source": [
    "import torch\n",
    "\n",
    "N, n_feature = 8, 5\n",
    "\n",
    "target_weight = torch.Tensor([1,2,3,4,5]).float()\n",
    "target_bias = torch.Tensor([10]).float()\n",
    "\n",
    "temp_input = torch.randn(size=(N, n_feature))\n",
    "\n",
    "Y = torch.sum(target_weight * temp_input, dim = 1)\n",
    "print(Y)\n",
    "Y += target_bias\n",
    "\n",
    "# bool tensor -> int tensor(0 or 1)\n",
    "Y = Y > 5\n",
    "Y = Y.int()\n",
    "print(Y)"
   ]
  },
  {
   "attachments": {},
   "cell_type": "markdown",
   "metadata": {},
   "source": [
    "## Multinomial dataset example"
   ]
  },
  {
   "cell_type": "code",
   "execution_count": null,
   "metadata": {},
   "outputs": [],
   "source": [
    "import torch\n",
    "import matplotlib.pyplot as plt\n",
    "import random\n",
    "\n",
    "plt.style.use('seaborn')\n",
    "\n",
    "N, n_feature = 8, 2\n",
    "n_class = 3\n",
    "\n",
    "X = torch.zeros(size=(0, n_feature))\n",
    "Y = torch.zeros(size=(0, ))\n",
    "print(f\"Initial X: {X}\")\n",
    "print(f\"Initial Y: {Y}\")\n",
    "\n",
    "fig, ax = plt.subplots(figsize=(5,5))\n",
    "for class_idx in range(n_class):\n",
    "  temp_center = torch.Tensor([random.uniform(0, 15), random.uniform(0, 15)]).float()\n",
    "\n",
    "  # class의 center값에 randn 값을 더해 N개의 분포 원소 생성\n",
    "  x1 = temp_center[0] + torch.randn(size=(N, 1))\n",
    "  x2 = temp_center[1] + torch.randn(size=(N, 1))\n",
    "\n",
    "  x = torch.concat((x1, x2), dim = 1)\n",
    "  y = class_idx * torch.ones(size=(N,)).int()\n",
    "  # plot\n",
    "  ax.scatter(x[:, 0].numpy(), x[:, 1].numpy(), alpha = 0.7)\n",
    "\n",
    "  X = torch.cat((X, x), dim = 0)\n",
    "  Y = torch.cat((Y, y), dim = 0)\n",
    "  \n",
    "print(f\"X shape : {X.shape}\")\n",
    "print(f\"Y shape : {Y.shape}\")\n",
    "\n",
    "print(f\"\\n\\n===== Y One-Hot Version =====\")\n",
    "Y_one_hot = torch.nn.functional.one_hot(Y.type(torch.LongTensor), num_classes = 3)\n",
    "print(Y_one_hot)"
   ]
  }
 ],
 "metadata": {
  "kernelspec": {
   "display_name": "torch_env",
   "language": "python",
   "name": "python3"
  },
  "language_info": {
   "name": "python",
   "version": "3.9.6 (default, Aug 16 2021, 12:43:27) \n[Clang 12.0.0 ]"
  },
  "orig_nbformat": 4,
  "vscode": {
   "interpreter": {
    "hash": "a52e575362aa5d973399fc42d131bb27f411347a99c97a5c7709c3ee105089cf"
   }
  }
 },
 "nbformat": 4,
 "nbformat_minor": 2
}
